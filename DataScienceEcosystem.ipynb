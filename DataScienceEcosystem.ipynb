{
 "cells": [
  {
   "cell_type": "markdown",
   "id": "dbbfbf97-8ed6-4b1d-a4d0-72a2845f543a",
   "metadata": {
    "panel-layout": {
     "height": 60.59375,
     "visible": true,
     "width": 100
    }
   },
   "source": [
    "# Data Science Tools and Ecosystem"
   ]
  },
  {
   "cell_type": "markdown",
   "id": "9783fbeb-ae89-4fe2-9ea1-d97214f3151b",
   "metadata": {
    "panel-layout": {
     "height": 51.140625,
     "visible": true,
     "width": 100
    }
   },
   "source": [
    "In this notebook, Data Science Tools and Ecosystem are summarized."
   ]
  },
  {
   "cell_type": "markdown",
   "id": "74283332-f727-4455-acd3-a06ddf0cde11",
   "metadata": {
    "panel-layout": {
     "height": 114.5625,
     "visible": true,
     "width": 100
    }
   },
   "source": [
    "**Objectives:**\n",
    "- Categories of Data Science Tools\n",
    "- Languages for Data Science\n",
    "- Libraries for Data Science"
   ]
  },
  {
   "cell_type": "markdown",
   "id": "034f8918-2b4a-4dc1-8bc6-9683fad27567",
   "metadata": {
    "panel-layout": {
     "height": 114.5625,
     "visible": true,
     "width": 100
    }
   },
   "source": [
    "Some of the popular languages that Data Scientists use are:\n",
    "1. Python\n",
    "2. R\n",
    "3. Scala"
   ]
  },
  {
   "cell_type": "markdown",
   "id": "eaa84f2e-f094-474e-a61f-e3086e39018e",
   "metadata": {
    "panel-layout": {
     "height": 114.5625,
     "visible": true,
     "width": 100
    }
   },
   "source": [
    "Some of the commonly used libraries used by Data Scientists include:\n",
    "1. NumPy\n",
    "2. Pandas\n",
    "3. Keras"
   ]
  },
  {
   "attachments": {},
   "cell_type": "markdown",
   "id": "4f8c9554-73b2-4250-be3a-b6dd133db875",
   "metadata": {
    "panel-layout": {
     "height": 123.5625,
     "visible": true,
     "width": 100
    }
   },
   "source": [
    "| Data Science Tools |\n",
    "| -------------|\n",
    "|Jupyter Notebooks|\n",
    "|R Studio|\n",
    "|Apache Spark|"
   ]
  },
  {
   "cell_type": "markdown",
   "id": "d15bb685-afe3-41dd-888f-35cd2e1bda9e",
   "metadata": {
    "panel-layout": {
     "height": 44.09375,
     "visible": true,
     "width": 100
    }
   },
   "source": [
    "### Below are a few examples of evaluating arithmetic expressions in Python"
   ]
  },
  {
   "cell_type": "code",
   "execution_count": 30,
   "id": "a130fbb3-d661-4051-ab3e-00b3780f28bd",
   "metadata": {
    "panel-layout": {
     "height": 27.140625,
     "visible": true,
     "width": 100
    }
   },
   "outputs": [
    {
     "data": {
      "text/plain": [
       "17"
      ]
     },
     "execution_count": 30,
     "metadata": {},
     "output_type": "execute_result"
    }
   ],
   "source": [
    "#This a simple arithmetic expression to mutiply then add integers\n",
    "(3*4)+5"
   ]
  },
  {
   "cell_type": "code",
   "execution_count": 31,
   "id": "c733ca35-53c5-4ff5-bcbd-a586ce019f4a",
   "metadata": {
    "panel-layout": {
     "height": 27.140625,
     "visible": true,
     "width": 100
    }
   },
   "outputs": [
    {
     "data": {
      "text/plain": [
       "3.3333333333333335"
      ]
     },
     "execution_count": 31,
     "metadata": {},
     "output_type": "execute_result"
    }
   ],
   "source": [
    "#This will convert 200 minutes to hours by diving by 60\n",
    "200/60"
   ]
  },
  {
   "cell_type": "markdown",
   "id": "a78fbd20-440b-42b6-8da1-79c85871d25b",
   "metadata": {
    "panel-layout": {
     "height": 84.390625,
     "visible": true,
     "width": 100
    }
   },
   "source": [
    "## Author\n",
    "Joe Simoes"
   ]
  }
 ],
 "metadata": {
  "kernelspec": {
   "display_name": "Python 3 (ipykernel)",
   "language": "python",
   "name": "python3"
  },
  "language_info": {
   "codemirror_mode": {
    "name": "ipython",
    "version": 3
   },
   "file_extension": ".py",
   "mimetype": "text/x-python",
   "name": "python",
   "nbconvert_exporter": "python",
   "pygments_lexer": "ipython3",
   "version": "3.12.7"
  },
  "panel-cell-order": [
   "a78fbd20-440b-42b6-8da1-79c85871d25b",
   "dbbfbf97-8ed6-4b1d-a4d0-72a2845f543a",
   "9783fbeb-ae89-4fe2-9ea1-d97214f3151b",
   "74283332-f727-4455-acd3-a06ddf0cde11",
   "034f8918-2b4a-4dc1-8bc6-9683fad27567",
   "eaa84f2e-f094-474e-a61f-e3086e39018e",
   "4f8c9554-73b2-4250-be3a-b6dd133db875",
   "d15bb685-afe3-41dd-888f-35cd2e1bda9e",
   "a130fbb3-d661-4051-ab3e-00b3780f28bd",
   "c733ca35-53c5-4ff5-bcbd-a586ce019f4a"
  ]
 },
 "nbformat": 4,
 "nbformat_minor": 5
}
