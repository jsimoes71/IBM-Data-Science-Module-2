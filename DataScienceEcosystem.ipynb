{
 "cells": [
  {
   "cell_type": "markdown",
   "id": "a78fbd20-440b-42b6-8da1-79c85871d25b",
   "metadata": {},
   "source": [
    "## Author\n",
    "Joe Simoes"
   ]
  },
  {
   "cell_type": "markdown",
   "id": "dbbfbf97-8ed6-4b1d-a4d0-72a2845f543a",
   "metadata": {},
   "source": [
    "# Data Science Tools and Ecosystem"
   ]
  },
  {
   "cell_type": "markdown",
   "id": "74283332-f727-4455-acd3-a06ddf0cde11",
   "metadata": {},
   "source": [
    "**Objectives:**\n",
    "- Categories of Data Science Tools\n",
    "- Languages for Data Science\n",
    "- Libraries for Data Science"
   ]
  },
  {
   "cell_type": "markdown",
   "id": "9783fbeb-ae89-4fe2-9ea1-d97214f3151b",
   "metadata": {},
   "source": [
    "In this notebook, Data Science Tools and Ecosystem are summarized."
   ]
  },
  {
   "cell_type": "markdown",
   "id": "034f8918-2b4a-4dc1-8bc6-9683fad27567",
   "metadata": {},
   "source": [
    "Some of the popular languages that Data Scientists use are:\n",
    "1. Python\n",
    "2. R\n",
    "3. Scala"
   ]
  },
  {
   "cell_type": "markdown",
   "id": "eaa84f2e-f094-474e-a61f-e3086e39018e",
   "metadata": {},
   "source": [
    "Some of the commonly used libraries used by Data Scientists include:\n",
    "1. NumPy\n",
    "2. Pandas\n",
    "3. Keras"
   ]
  },
  {
   "attachments": {},
   "cell_type": "markdown",
   "id": "4f8c9554-73b2-4250-be3a-b6dd133db875",
   "metadata": {},
   "source": [
    "| Data Science Tools |\n",
    "| -------------|\n",
    "|Jupyter Notebooks|\n",
    "|R Studio|\n",
    "|Apache Spark|"
   ]
  },
  {
   "cell_type": "markdown",
   "id": "d15bb685-afe3-41dd-888f-35cd2e1bda9e",
   "metadata": {},
   "source": [
    "### Below are a few examples of evaluating arithmetic expressions in Python"
   ]
  },
  {
   "cell_type": "code",
   "execution_count": null,
   "id": "a130fbb3-d661-4051-ab3e-00b3780f28bd",
   "metadata": {},
   "outputs": [],
   "source": [
    "(3*4)+5"
   ]
  }
 ],
 "metadata": {
  "kernelspec": {
   "display_name": "Python 3 (ipykernel)",
   "language": "python",
   "name": "python3"
  },
  "language_info": {
   "codemirror_mode": {
    "name": "ipython",
    "version": 3
   },
   "file_extension": ".py",
   "mimetype": "text/x-python",
   "name": "python",
   "nbconvert_exporter": "python",
   "pygments_lexer": "ipython3",
   "version": "3.12.7"
  }
 },
 "nbformat": 4,
 "nbformat_minor": 5
}
